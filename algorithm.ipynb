{
 "cells": [
  {
   "attachments": {
    "99b29922-1e62-40c3-84ab-d0c961d5f888.png": {
     "image/png": "[encoded data removed]"
    }
   },
   "cell_type": "markdown",
   "id": "4ca64c14-9b2e-4e2b-be32-c3733f4b3ccc",
   "metadata": {},
   "source": [
    "# 문제 설명\n",
    "<span style=\"font-size:17px;font-weight:bold;\">\n",
    "알파벳 소문자로만 이루어진 어떤 문자열에서, 2회 이상 나타난 알파벳이 2개 이상의 부분으로 나뉘어 있으면 외톨이 알파벳이라고 정의합니다.\n",
    "\n",
    "문자열 \"edeaaabbccd\"를 예시로 들어보면,\n",
    "<ul type=circle>    \n",
    "    <li>a는 2회 이상 나타나지만, 하나의 덩어리로 뭉쳐있으므로 외톨이 알파벳이 아닙니다.</li>\n",
    "    - \"ede(aaa)bbccd\"\n",
    "    <li>b, c도 a와 같은 이유로 외톨이 알파벳이 아닙니다.</li>\n",
    "    <li>d는 2회 나타나면서, 2개의 부분으로 나뉘어 있으므로 외톨이 알파벳입니다.</li>\n",
    "    - \"e(d)eaaabbcc(d)\"\n",
    "    <li>e도 d와 같은 이유로 외톨이 알파벳입니다.</li>\n",
    "</ul>\n",
    "문자열 \"eeddee\"를 예시로 들어보면,\n",
    "<ul type=circle>\n",
    "    <li>e는 4회 나타나면서, 2개의 부분으로 나뉘어 있으므로 외톨이 알파벳입니다.</li>\n",
    "    - \"(ee)dd(ee)\"\n",
    "    <li>d는 2회 나타나지만, 하나의 덩어리로 뭉쳐있으므로 외톨이 알파벳이 아닙니다.</li>\n",
    "    - \"ee(dd)ee\"\n",
    "</ul>\n",
    "문자열 input_string이 주어졌을 때, 외톨이 알파벳들을 알파벳순으로 이어 붙인 문자열을 return 하도록 solution 함수를 완성해주세요. 만약, 외톨이 알파벳이 없다면 문자열 \"N\"을 return 합니다. <br><br>\n",
    "제한사항\n",
    "<ul type=circle>\n",
    "    <li> 1<= [input_string]의 길이 <= 2,600\n",
    "    <li> [input_string]은 알파벳 소문자로만 구성되어 있습니다. </li>\n",
    "</ul>\n",
    "</span>\n",
    "    \n",
    "![image.png](attachment:99b29922-1e62-40c3-84ab-d0c961d5f888.png)  \n",
    "<span style=\"font-size:17px;font-weight:bold;\">\n",
    "입출력 예 설명<br>\n",
    "\n",
    "<ul type=circle> 입출력 예 #1\n",
    "    <li> 문제 예시와 같습니다.</li>\n",
    "    <li>외톨이 알파벳인 e, d를 알파벳순으로 이어 붙여 문자열을 만들면 \"de\"가 됩니다.</li>\n",
    "</ul>\n",
    "    \n",
    "<ul type=circle> 입출력 예 #2\n",
    "    <li>문제 예시와 같습니다.</li>\n",
    "</ul>\n",
    "<ul type=circle> 입출력 예 #3\n",
    "    <li>모든 문자들이 한 번씩만 등장하므로 외톨이 알파벳이 없습니다.</li>\n",
    "</ul>\n",
    "<ul type=circle> 입출력 예 #4\n",
    "    <li>외톨이 알파벳인 z, b를 알파벳순으로 이어 붙여 문자열을 만들면 \"bz\"가 됩니다.</li>\n",
    "</ul>\n",
    "    </span>"
   ]
  },
  {
   "cell_type": "code",
   "execution_count": 113,
   "id": "a6e3df8e-88ba-4b46-a095-2e5ee68c4b03",
   "metadata": {
    "tags": []
   },
   "outputs": [
    {
     "name": "stdin",
     "output_type": "stream",
     "text": [
      " string\n"
     ]
    },
    {
     "name": "stdout",
     "output_type": "stream",
     "text": [
      "N\n"
     ]
    }
   ],
   "source": [
    "def solution(input_string):\n",
    "    answer=''\n",
    "    dic=sorted(dict.fromkeys(input_string))    \n",
    "    inc=0\n",
    "    for ch in dic:\n",
    "        indexes = [ i  for i,c in enumerate(input_string) if c == ch]\n",
    "        #print(ch,indexes)\n",
    "        if len(indexes) >= 2:                             \n",
    "            inc2=0\n",
    "            for val in range(len(indexes)-1):                \n",
    "                if ((indexes[val+1]-indexes[val]) > 1):                    \n",
    "                    answer=answer+ch                    \n",
    "                    break\n",
    "                else:\n",
    "                    inc2 += 1\n",
    "            if len(indexes)-1 == inc2:\n",
    "                inc += 1                                   \n",
    "        else:\n",
    "            inc += 1\n",
    "    if len(dic) == inc:\n",
    "        answer='N'\n",
    "    return answer\n",
    "\n",
    "input_string=str(input())\n",
    "print(solution(input_string))"
   ]
  },
  {
   "cell_type": "code",
   "execution_count": 117,
   "id": "440ee3ed-e547-44f8-b614-984d7d14a430",
   "metadata": {
    "tags": []
   },
   "outputs": [
    {
     "name": "stdin",
     "output_type": "stream",
     "text": [
      " aaaabbbbccccc\n"
     ]
    },
    {
     "name": "stdout",
     "output_type": "stream",
     "text": [
      "N\n"
     ]
    }
   ],
   "source": [
    "def solution(input_string):\n",
    "    answer=''\n",
    "    keydic={}    \n",
    "    inc=0\n",
    "    for i in input_string:        \n",
    "        if inc == 0 or not i in keydic.keys():\n",
    "            keydic[i]=[inc]\n",
    "        else:\n",
    "            keydic[i].append(inc)        \n",
    "        inc=inc+1\n",
    "    num=len(keydic.keys())\n",
    "    inc=0\n",
    "    if num == 1:\n",
    "        answer='N'\n",
    "        return answer\n",
    "    for ch in sorted(keydic.keys()):        \n",
    "        num2= len(keydic[ch])\n",
    "        if num2 >= 2:\n",
    "            inc2=0\n",
    "            for index in range(num2-1):                        \n",
    "                if keydic[ch][index+1]-keydic[ch][index] > 1:\n",
    "                    answer=answer+ch \n",
    "                    break\n",
    "                else:\n",
    "                    inc2 += 1\n",
    "            if num2-1 == inc2:\n",
    "                inc += 1\n",
    "        else:\n",
    "            inc += 1\n",
    "    if num == inc:\n",
    "        answer='N'            \n",
    "                    \n",
    "    return answer\n",
    "\n",
    "input_string=str(input())\n",
    "print(solution(input_string))"
   ]
  },
  {
   "cell_type": "code",
   "execution_count": 126,
   "id": "6c502332-1827-4bfa-8695-e954af751a38",
   "metadata": {
    "tags": []
   },
   "outputs": [
    {
     "name": "stdin",
     "output_type": "stream",
     "text": [
      " aaaabbbbcc\n"
     ]
    },
    {
     "name": "stdout",
     "output_type": "stream",
     "text": [
      "N\n"
     ]
    }
   ],
   "source": [
    "from collections import defaultdict\n",
    "\n",
    "def solution(input_string):\n",
    "    hash_map = defaultdict(int)\n",
    "    stack = list()\n",
    "\n",
    "    for ch in input_string:\n",
    "        if not stack:\n",
    "            stack.append(ch)\n",
    "            hash_map[ch] += 1\n",
    "        else:\n",
    "            if stack[-1] != ch:\n",
    "                stack.clear()\n",
    "                stack.append(ch)\n",
    "                hash_map[ch] += 1\n",
    "\n",
    "            else:\n",
    "                stack.append(ch)\n",
    "        #print(stack,hash_map[ch])\n",
    "\n",
    "    result = [k for k,v in hash_map.items() if v >= 2]\n",
    "    _result = \"\".join(sorted(result, reverse=False))\n",
    "\n",
    "    return _result if _result else \"N\"\n",
    "input_string=str(input())\n",
    "print(solution(input_string))"
   ]
  },
  {
   "cell_type": "code",
   "execution_count": 131,
   "id": "716b9cb2-275f-4eb9-b048-92a254af6f78",
   "metadata": {
    "tags": []
   },
   "outputs": [
    {
     "name": "stdin",
     "output_type": "stream",
     "text": [
      " aaaaaabbbbbccccca\n"
     ]
    },
    {
     "name": "stdout",
     "output_type": "stream",
     "text": [
      "a\n"
     ]
    }
   ],
   "source": [
    "def solution(input_string):\n",
    "    answer = set()\n",
    "    alphabets = set([input_string[0]])\n",
    "    prev = input_string[0]\n",
    "    for s in input_string[1:]:\n",
    "        if s != prev and s in alphabets:\n",
    "            answer.add(s)\n",
    "        alphabets.add(s)\n",
    "        prev = s\n",
    "\n",
    "    if answer:\n",
    "        answer = ''.join(sorted(list(answer)))\n",
    "    else:\n",
    "        answer = 'N'\n",
    "    return answer\n",
    "input_string=str(input())\n",
    "print(solution(input_string))"
   ]
  },
  {
   "cell_type": "markdown",
   "id": "345520ec-add2-4246-a3f0-673791b89587",
   "metadata": {},
   "source": [
    "# set 내장함수\n",
    "<span style=\"font-size:15px;font-weight:bold;\"><ul type=rect>\n",
    "    <li>set 함수 중요 특징: 중복되지 않는 원소(unique)를 얻고자 할때 사용</li>\n",
    "    `s = set()`<br>\n",
    "    `s = set([1,2,3])`<br>\n",
    "    `s = {1,2,3}`<br>          \n",
    "    <li>set에 추가할 때 : add</li>\n",
    "    `s.add(('a','a','c'))`<br>\n",
    "    `print(s) # {1,2,3,('a','a','c')}`<br>\n",
    "    `s.add([4,5,6]) # 에러: 반드시 하나의 숫자 또는 문자, 튜플만 가능`<br>    \n",
    "    <li>set에 여러개 값을 추가할 때 : update</li>\n",
    "    `s.update([4,5,6])`<br>\n",
    "    `print(s) # {1,2,3,4,5,6,('a','a','c')}`<br>    \n",
    "    <li>set 안에 값 제거할 때: remove, discard</li>\n",
    "    `s.remove(1)`<br>\n",
    "    `print(s) # {2,3,4,5,6,('a','a','c')}`<br>\n",
    "    `s.remove(0)`<br>\n",
    "    `print(s) # 0이 없으면 keyerror`<br>\n",
    "    `s.discard(0) # 0이 없어도 keyerror 발생하지 않음`<br>    \n",
    "    <li>set 연산자: 합집합(union), 교집합(insersection), 차집합(difference), 대칭차집합(symmetric_difference)</li>\n",
    "    `a={1,2,3,4,5}`<br>\n",
    "    `b={3,5,7,9}`<br>\n",
    "    `print(a|b) # {1,2,3,4,5,7,9,}`<br>\n",
    "    `print(a.union(b)) # {1,2,3,4,5,7,9,}`<br>\n",
    "    `print(a&b) # {3,5}`<br>\n",
    "    `print(a.intersection(b)) # {3,5}`<br>\n",
    "    `print(a-b) # {1,2,4}`<br>\n",
    "    `print(a.difference(b)) # {1,2,4}`<br>\n",
    "    `print(a^b) # {1,2,4,7,9}`<br>\n",
    "    `print(a.symmetric_difference(b)) # {1,2,4,7,9}`<br>    \n",
    "</ul></span>\n"
   ]
  },
  {
   "cell_type": "code",
   "execution_count": 7,
   "id": "9b10f750-ccf0-4580-901a-33d1f612c08c",
   "metadata": {},
   "outputs": [
    {
     "name": "stdin",
     "output_type": "stream",
     "text": [
      " aade\n"
     ]
    },
    {
     "name": "stdout",
     "output_type": "stream",
     "text": [
      "N\n"
     ]
    }
   ],
   "source": [
    "def solution(input_string):\n",
    "    answer = ''\n",
    "    count_dict = {}\n",
    "\n",
    "    prev = ''\n",
    "    for c in input_string:\n",
    "        if c != prev:\n",
    "            count_dict[c] = count_dict.get(c, 0) + 1\n",
    "        prev = c\n",
    "\n",
    "    for k in sorted(list(count_dict.keys())):\n",
    "        if count_dict[k] > 1:\n",
    "            answer += k\n",
    "\n",
    "    return answer if answer else 'N'\n",
    "input_string=str(input())\n",
    "print(solution(input_string))"
   ]
  },
  {
   "cell_type": "markdown",
   "id": "0ac9fa3a-2bf2-4a0d-808f-d3f043c8fc38",
   "metadata": {},
   "source": [
    "# Dictionary GET 함수\n",
    "<span style=\"font-size:16px;font-weight:bold;\">\n",
    "딕셔너리의 get(x) 함수는 x라는 key에 대응되는 value값을 돌려준다.\n",
    "만약 get(x, 'Baaaaaaam') 함수에 두번째 인자를 넣어주면 x라는 key가 딕셔너리에 없는 경우, 'Baaaaaaam'을 디폴트 값을 돌려준다.\n",
    "'Baaaaaaam'이라는 key값이 딕셔너리에 없는데 dic['Baaaaaaam']을 사용하면 key 오류를 발생시키는데 get함수를 사용하면 key값이 없어도 오류를 발생시키지 않고 None을 반환해준다.\n",
    "</span>"
   ]
  },
  {
   "cell_type": "code",
   "execution_count": 10,
   "id": "dc81f3c0-81ab-42f0-a983-9b5932358007",
   "metadata": {},
   "outputs": [
    {
     "name": "stdout",
     "output_type": "stream",
     "text": [
      "{'classic': 1450, 'pop': 3100}\n",
      "{'classic': [(500, 0), (150, 2), (800, 3)], 'pop': [(600, 1), (2500, 4)]}\n"
     ]
    }
   ],
   "source": [
    "genres = [\"classic\", \"pop\", \"classic\", \"classic\", \"pop\"]\n",
    "plays = [500, 600, 150, 800, 2500]\n",
    "playDic = {}\n",
    "dic = {}\n",
    "\n",
    "for i in range(len(genres)):\n",
    "\tplayDic[genres[i]] = playDic.get(genres[i], 0) + plays[i]\n",
    "\tdic[genres[i]] = dic.get(genres[i], []) + [(plays[i], i)]\n",
    "print(playDic)\n",
    "print(dic)"
   ]
  },
  {
   "attachments": {
    "36108cd6-a0fc-473e-9019-d56765ffc8dc.png": {
     "image/png": "[encoded data removed]"
    },
    "5fb167f7-df42-416a-80f7-1ee9699c86a8.png": {
     "image/png": "[encoded data removed]"
    }
   },
   "cell_type": "markdown",
   "id": "12506421-8fa7-4a2b-a89d-6af586de77e0",
   "metadata": {},
   "source": [
    "# 문제 설명\n",
    "<span style=\"font-size:16px;font-weight:bold;\">\n",
    "당신이 다니는 학교는 매년 체육대회를 합니다. 체육대회는 여러 종목에 대해 각 반의 해당 종목 대표가 1명씩 나와 대결을 하며, 한 학생은 최대 한개의 종목 대표만 할 수 있습니다. 당신의 반에서도 한 종목당 1명의 대표를 뽑으려고 합니다. 학생들마다 각 종목에 대한 능력이 다르지만 이 능력은 수치화되어 있어 미리 알 수 있습니다. 당신의 반의 전략은 각 종목 대표의 해당 종목에 대한 능력치의 합을 최대화하는 것입니다.\n",
    "\n",
    "다음은 당신의 반 학생이 5명이고, 종목의 개수가 3개이며, 각 종목에 대한 학생들의 능력치가 아래 표와 같을 때, 각 종목의 대표를 뽑는 예시입니다.\n",
    "</span>\n",
    "![image.png](attachment:36108cd6-a0fc-473e-9019-d56765ffc8dc.png)  \n",
    "<span style=\"font-size:16px;font-weight:bold;\">\n",
    "테니스 대표로 준모, 탁구 대표로 인용, 수영 대표로 정현을 뽑는다면, 세 명의 각 종목에 대한 능력치의 합은 200(=100+30+70)이 됩니다.\n",
    "하지만, 테니스 대표로 석환, 탁구 대표로 준모, 수영 대표로 정현을 뽑는다면 세 명의 각 종목에 대한 능력치 합은 210(=40+100+70)이 됩니다. 이 경우가 당신의 반의 각 종목 대표의 능력치 합이 최대가 되는 경우입니다.\n",
    "\n",
    "당신의 반 학생들의 각 종목에 대한 능력치를 나타내는 2차원 정수 배열 ability가 주어졌을 때, 선발된 대표들의 해당 종목에 대한 능력치 합의 최대값을 return 하는 solution 함수를 완성하시오.\n",
    "</span>\n",
    "---\n",
    "## 제한사항\n",
    "<span style=\"font-size:16px;font-weight:bold;\">\n",
    "<ul type=circle>\n",
    "    <li>1 ≤ ability의 행의 길이 = 학생 수 ≤ 10</li>\n",
    "    <li>1 ≤ ability의 열의 길이 = 종목 수 ≤ ability의 행의 길이</li>\n",
    "    <li>0 ≤ ability[i][j] ≤ 10,000</li>\n",
    "    <li>ability[i][j]는 i+1번 학생의 j+1번 종목에 대한 능력치를 의미합니다.</li>\n",
    "</ul>\n",
    "</span>\n",
    "\n",
    "![image.png](attachment:5fb167f7-df42-416a-80f7-1ee9699c86a8.png)"
   ]
  },
  {
   "cell_type": "code",
   "execution_count": 13,
   "id": "9613bdbf-efa4-49a0-86f6-45e8d6cb2584",
   "metadata": {
    "tags": []
   },
   "outputs": [
    {
     "name": "stdout",
     "output_type": "stream",
     "text": [
      "5 3\n",
      "0\n"
     ]
    }
   ],
   "source": [
    "def solution(ability):\n",
    "    answer=0\n",
    "    a=len(ability)\n",
    "    b=len(ability[0])\n",
    "    for i in range(len(ability)):\n",
    "        a1=max(ability[i])\n",
    "        ai1= ability[i].index(a1)\n",
    "        \n",
    "    \n",
    "    print(a,b)\n",
    "    return answer\n",
    "\n",
    "ability=[[40, 10, 10], [20, 5, 0], [30, 30, 30], [70, 0, 70], [100, 100, 100]]\n",
    "#ability=[[20, 30], [30, 20], [20, 30]]\n",
    "print(solution(ability))"
   ]
  },
  {
   "cell_type": "code",
   "execution_count": null,
   "id": "26d914a4-0ab6-4ca5-9924-42e51c8f266b",
   "metadata": {},
   "outputs": [],
   "source": []
  }
 ],
 "metadata": {
  "kernelspec": {
   "display_name": "Python 3 (ipykernel)",
   "language": "python",
   "name": "python3"
  },
  "language_info": {
   "codemirror_mode": {
    "name": "ipython",
    "version": 3
   },
   "file_extension": ".py",
   "mimetype": "text/x-python",
   "name": "python",
   "nbconvert_exporter": "python",
   "pygments_lexer": "ipython3",
   "version": "3.11.5"
  }
 },
 "nbformat": 4,
 "nbformat_minor": 5
}
