{
 "cells": [
  {
   "cell_type": "markdown",
   "id": "98bc7bc4-4d3d-415d-9000-150ccbccba51",
   "metadata": {},
   "source": [
    "## 알파벳 대소문자로 구성된 문자열 A 가 주어진다. <br>한 개 이상의 알파벳 대문자가 공백으로 구분된 문자 목록B 가 주어진다 문자 목록 B에는 중복된 대문자가 존재하지 않는다.<br>문자 목록에 존재하는 모든 대문자 b에 대하여 문자열 A에 존재하는 대문자 b를 대응하는 소문자로 치환한 문자열을 C라고 하자. 입력으로 문자열 A와 문자 목록 B가 주어지면 문자열 C를 출력하자"
   ]
  },
  {
   "cell_type": "code",
   "execution_count": 1,
   "id": "63a64ee9-279f-4212-8741-0d9ae7fa55d8",
   "metadata": {
    "tags": []
   },
   "outputs": [
    {
     "name": "stdout",
     "output_type": "stream",
     "text": [
      "AVCdTOPq\n"
     ]
    }
   ],
   "source": [
    "def solution(A,B):\n",
    "    for b in B:\n",
    "        A = A.replace(b,b.upper())\n",
    "    return A\n",
    "print(solution('AVcdTopq','c o p'))\n"
   ]
  },
  {
   "cell_type": "markdown",
   "id": "a51d6f46-4df9-4dcc-957b-25731fc3395a",
   "metadata": {},
   "source": [
    "map은 리스트의 요소를 지정된 함수로 처리해주는 함수\n",
    " - list(map(함수,리스트))\n",
    " - tuple(map(함수,튜플))\n",
    "```\n",
    ">>> a = [ 1.2, 2.5, 3.5, 4.4 ]\n",
    ">>> a = list(map(int,a))\n",
    ">>> a\n",
    "[1,2,3,4]\n",
    "```"
   ]
  },
  {
   "cell_type": "code",
   "execution_count": 6,
   "id": "43dee041-b74d-47bc-bfbd-7c5ec6797706",
   "metadata": {},
   "outputs": [
    {
     "name": "stdin",
     "output_type": "stream",
     "text": [
      " 00:00 23:30 23:30 15:30\n"
     ]
    },
    {
     "name": "stdout",
     "output_type": "stream",
     "text": [
      "62:30\n"
     ]
    }
   ],
   "source": [
    "def parse_log(s):\n",
    "    return int(s[0:2])*60+int(s[3:5])\n",
    "\n",
    "def solution(A):\n",
    "    total_time=0\n",
    "    for t in map(parse_log,A):\n",
    "        total_time+=t\n",
    "    hour = total_time // 60\n",
    "    min = total_time % 60\n",
    "    ret=''\n",
    "    if hour < 100:\n",
    "        ret = '%02d:%02d'%(hour,min)\n",
    "    else:\n",
    "        ret = '%d:%02d'%(hour,min)\n",
    "    return ret\n",
    "\n",
    "\n",
    "A=list(input().split())\n",
    "print(solution(A))\n"
   ]
  },
  {
   "cell_type": "code",
   "execution_count": 15,
   "id": "5fda5b1a-b16f-45bf-a6a6-08a754d30f01",
   "metadata": {},
   "outputs": [
    {
     "name": "stdin",
     "output_type": "stream",
     "text": [
      " aaa bbb ccc ddd eee fff\n",
      " aaa ddd ddd aaa eee\n"
     ]
    },
    {
     "name": "stdout",
     "output_type": "stream",
     "text": [
      "bbb\n",
      "ccc\n",
      "fff\n"
     ]
    }
   ],
   "source": [
    "def solution(A,B):\n",
    "    D = {}\n",
    "    for b in B:\n",
    "        if b in D:\n",
    "            D[b] += 1\n",
    "        else:\n",
    "            D[b] = 1\n",
    "\n",
    "    answer = []\n",
    "    for a in A:\n",
    "        if a not in D:\n",
    "            answer.append(a)\n",
    "    answer.sort()\n",
    "    return answer\n",
    "\n",
    "A = list(input().split())\n",
    "B = list(input().split())\n",
    "C = solution(A,B)\n",
    "for c in C:\n",
    "    print(c)\n",
    "    "
   ]
  },
  {
   "cell_type": "code",
   "execution_count": 19,
   "id": "448b17b9-08dc-4063-9d79-ad079c309d6b",
   "metadata": {},
   "outputs": [
    {
     "name": "stdin",
     "output_type": "stream",
     "text": [
      " 123 1234 12345 1234567 1312 1423\n",
      " 123\n"
     ]
    },
    {
     "name": "stdout",
     "output_type": "stream",
     "text": [
      "3\n"
     ]
    }
   ],
   "source": [
    "#전화번호 동일 접두사 카운트\n",
    "def solution(A,B):\n",
    "    D = {}\n",
    "    for phone in A:\n",
    "        for i in range(len(phone) -1):\n",
    "            x = phone[:i+1]\n",
    "            if x in D:\n",
    "                D[x] += 1\n",
    "            else:\n",
    "                D[x] = 1\n",
    "    if B in D:\n",
    "        return D[B]\n",
    "    else:\n",
    "        return 0\n",
    "\n",
    "A = list(input().split())\n",
    "B = input()\n",
    "print(solution(A,B))\n",
    "\n",
    "\n",
    "            "
   ]
  },
  {
   "cell_type": "code",
   "execution_count": 21,
   "id": "9b5caae2-1df6-49c5-b36a-011dfb084402",
   "metadata": {},
   "outputs": [
    {
     "name": "stdin",
     "output_type": "stream",
     "text": [
      " 7\n",
      " 4 3 4 5 6 1 7\n"
     ]
    },
    {
     "name": "stdout",
     "output_type": "stream",
     "text": [
      "4\n"
     ]
    }
   ],
   "source": [
    "def solution(n,A):\n",
    "    mx=0\n",
    "    D={}\n",
    "    for a in A:\n",
    "        if a in D:\n",
    "            D[a] += 1\n",
    "        else:\n",
    "            D[a] = 1\n",
    "        mx=max(mx,D[a])\n",
    "\n",
    "    answer=[]\n",
    "    for key,value in D.items():\n",
    "        if value==mx:\n",
    "            answer.append(key)\n",
    "    answer.sort()\n",
    "    return answer\n",
    "\n",
    "n=int(input())\n",
    "A=list(map(int,input().split()))\n",
    "B=solution(n,A)\n",
    "for b in B:\n",
    "    print(b)"
   ]
  },
  {
   "cell_type": "markdown",
   "id": "e2eec89e-41b7-4fa4-a7e8-c00d4e7d475f",
   "metadata": {},
   "source": [
    "<span style=\"color:blue;font-size:20px;\"> (문제) </span>  \n",
    "> 학생이 학교 식당에 도착하고 식사가 준비되는 n개의 정보가 주어진다. <br>\n",
    "> 첫번째 정보부터 n번째 정보까지 순서대로 처리한 경우, 식당 입구에 줄을 서서 대기하는 학생수가 최대가 되었던 순간의 학생수와 <br> \n",
    "> 이때 식당 입구의 맨 뒤에 대기중인 학생의 번호를 출력하는 문제다. <br>\n",
    "\n",
    "  - 유형1: 1 a:학생 번호가 양의 정수 a인 학생 1명이 학생식당에 대기\n",
    "  - 유형2: 2: 식사 1인분이 준비되어 식당 맨앞 학생1명이 식사 시작\n",
    "  - 식사 1인분이 준비될 때는 식당 입구에서 대기중인 학생이 항상 존재한다. 식당 입구에 줄을 서서 대기하였으나 식사가 준비안된 학생은 식사를 못한다. \n"
   ]
  },
  {
   "cell_type": "code",
   "execution_count": null,
   "id": "8a84624c-eb1f-4555-985b-3beb9f50b123",
   "metadata": {},
   "outputs": [],
   "source": [
    "# queue : FIFO\n",
    "from collections import deque\n",
    "# n,A : \n",
    "# 1 a\n",
    "# 2 \n",
    "def solution(n,A):\n",
    "    answer = [ 0, 0]\n",
    "    q = deque()\n",
    "    for info in A:\n",
    "        if info[0] == 1:\n",
    "            q.append(info[1])\n",
    "            if answer[0] < len(q) or (answer[0] == len(q) and answer[1] > info[1]):\n",
    "                answer = [len(q),info[1]]\n",
    "        else:\n",
    "            q.popleft()\n",
    "    return answer\n",
    "\n",
    "n = int(input())\n",
    "A = list(list(map(int, input().split())) for _ in range(n))\n",
    "B = solution(n,A)\n",
    "print(B[0], B[1])\n",
    "         \n",
    "                "
   ]
  },
  {
   "cell_type": "markdown",
   "id": "584b4fe6-73fb-4f96-a8c5-60ace26d2754",
   "metadata": {},
   "source": [
    "> 위와 비슷하나 입력방식에서 <br>\n",
    "> 1 a b : 학생번호가 양의 정수 a이고 종아하는 메뉴가 b인 학생 1명 식당 대기 <br>\n",
    "> 2 b: 메뉴번호가 b인 식사 1인분 준비되어 대기중인 학생 1명 식사 시작 <br>\n",
    "> "
   ]
  },
  {
   "cell_type": "code",
   "execution_count": 31,
   "id": "884ec9a0-6c34-4924-bbc5-b2e792aad622",
   "metadata": {},
   "outputs": [
    {
     "name": "stdin",
     "output_type": "stream",
     "text": [
      " 6\n",
      " 1 3 1\n",
      " 1 2 1\n",
      " 2 1\n",
      " 1 1 2\n",
      " 2 2\n",
      " 2 2\n"
     ]
    },
    {
     "name": "stdout",
     "output_type": "stream",
     "text": [
      "1 3 \n",
      "2 \n",
      "None\n"
     ]
    }
   ],
   "source": [
    "# queue : FIFO\n",
    "from collections import deque\n",
    "# n,S : \n",
    "# 1 a b\n",
    "# 2 b\n",
    "def solution(n,S):\n",
    "    answer = [[ ] for _ in range(3)]\n",
    "    q = deque()\n",
    "    for info in S:\n",
    "        if info[0] == 1:\n",
    "            q.append((info[1],info[2]))\n",
    "        else:\n",
    "            a,b = q.popleft()\n",
    "            if b == info[1]:\n",
    "                answer[0].append(a)\n",
    "            else:\n",
    "                answer[1].append(a)\n",
    "    while len(q) > 0:\n",
    "        a,b =q.popleft()\n",
    "        answer[2].append(a)\n",
    "\n",
    "    for i in range(3):\n",
    "        answer[i].sort()\n",
    "        \n",
    "    return answer\n",
    "\n",
    "n = int(input())\n",
    "S = list(list(map(int, input().split())) for _ in range(n))\n",
    "T = solution(n,S)\n",
    "for t in T:\n",
    "    if len(t) == 0:\n",
    "        print('None')\n",
    "    else:\n",
    "        for x in t:\n",
    "            print(x,end=' ')\n",
    "        print()\n"
   ]
  },
  {
   "cell_type": "markdown",
   "id": "4417214d-fea3-40f1-af3f-12fc5070781b",
   "metadata": {},
   "source": [
    "# array\n",
    "> 크기 n인 정수형 배열 A가 주어진다. <br>\n",
    "> 배열 A의 원소는 같은 값을 갖는 원소가 여러 개 존재할 수도 있다.<br>\n",
    "> 배열 A에 대한 m개의 질의가 저장된 배열 B가 주어진다.  <br>\n",
    "> 배열 B에 저장된 m개의 질의는 아래와 같은 유형이다.<br>\n",
    "  - k : 배열 A의 원소 중 k보다 크거나 같은 원소의 개수를 출력한다. <br> \n",
    "> 배열 B에 저장된 첫 번째 질의부터 m번째 질의까지 순서대로 처리하면서 질의 결과를 출력하자  "
   ]
  },
  {
   "cell_type": "code",
   "execution_count": 34,
   "id": "c7292283-48c2-45cb-890f-39ac66a292f6",
   "metadata": {},
   "outputs": [
    {
     "name": "stdin",
     "output_type": "stream",
     "text": [
      " 7 4\n",
      " 1 3 5 7 9 11 34\n",
      " 4\n",
      " 7\n",
      " 10\n",
      " 30\n"
     ]
    },
    {
     "name": "stdout",
     "output_type": "stream",
     "text": [
      "5\n",
      "3\n",
      "2\n",
      "1\n"
     ]
    }
   ],
   "source": [
    "def solution(n,m,A,B):\n",
    "    answer = []\n",
    "    for k in B:\n",
    "        cnt =0\n",
    "        for a in A:\n",
    "            if a > k:\n",
    "                cnt += 1\n",
    "        answer.append(cnt)\n",
    "    return answer\n",
    "n,m = map(int, input().split())\n",
    "A = list(map(int,input().split()))\n",
    "B = list(int(input()) for _ in range(m))\n",
    "C = solution(n,m,A,B)\n",
    "for c in C:\n",
    "    print(c)"
   ]
  },
  {
   "cell_type": "markdown",
   "id": "0893240f-b1c0-4262-95d2-3d05364b2a55",
   "metadata": {},
   "source": [
    "# 위 문제와 같이 배열을 이용하는 문제\n",
    "## n,A: n명 학생의 선호도 조사 결과가 저장된 1차원 배열 A\n",
    "## m,B: m개의 질의가 저장된 1차원 배열 B\n"
   ]
  },
  {
   "cell_type": "code",
   "execution_count": 36,
   "id": "da3b6044-12df-49be-acfd-ae1b1e8328f2",
   "metadata": {},
   "outputs": [
    {
     "name": "stdin",
     "output_type": "stream",
     "text": [
      " 7 3\n",
      " kor eng math eng kor math kor\n",
      " eng\n",
      " kor\n",
      " math\n"
     ]
    },
    {
     "name": "stdout",
     "output_type": "stream",
     "text": [
      "2\n",
      "3\n",
      "2\n"
     ]
    }
   ],
   "source": [
    "def solution(n,m,A,B):\n",
    "    answer = []\n",
    "    for subject in B:\n",
    "        if subject == '-':\n",
    "            answer.append(n)\n",
    "        else:\n",
    "            cnt =0\n",
    "            for a in A:\n",
    "                if a == subject:\n",
    "                    cnt += 1\n",
    "            answer.append(cnt)\n",
    "    return answer\n",
    "\n",
    "n,m= map(int, input().split())\n",
    "A = list(input().split())\n",
    "B = list(input() for _ in range(m))\n",
    "C = solution(n,m,A,B)\n",
    "for c in C:\n",
    "    print(c)        "
   ]
  },
  {
   "cell_type": "code",
   "execution_count": 47,
   "id": "60ddc1f9-91ab-4d7a-a53d-a1055f0e34a6",
   "metadata": {},
   "outputs": [
    {
     "name": "stdout",
     "output_type": "stream",
     "text": [
      "[55]\n"
     ]
    }
   ],
   "source": [
    "def solution(L, x):\n",
    "    answer = []\n",
    "    last = 0\n",
    "    for i in range(len(L)):\n",
    "        if L[i] < x:\n",
    "            last = i\n",
    "    answer.insert(last,x)\n",
    "                           \n",
    "    return answer\n",
    "L = [20,37,48,78,90]\n",
    "x = 55\n",
    "a=solution(L,x)\n",
    "print(a)"
   ]
  },
  {
   "cell_type": "code",
   "execution_count": 1,
   "id": "26d00573-52d5-45d0-bd4a-81114ea41978",
   "metadata": {},
   "outputs": [
    {
     "name": "stdout",
     "output_type": "stream",
     "text": [
      "0\n"
     ]
    }
   ],
   "source": [
    "def can_reach_signs(n, m, tests):\n",
    "    def is_reachable(x, y, test):\n",
    "        start_x, start_y, max_distance, sign_reachable = test\n",
    "        distance = abs(x - start_x) + abs(y - start_y)  # 현재 좌표에서 출발점까지의 거리 계산\n",
    "        return distance <= max_distance and sign_reachable\n",
    "\n",
    "    count = 0  # 표지판이 있을 수 있는 좌표 개수를 세는 변수\n",
    "\n",
    "    for x in range(n + 1):  # 가로 좌표\n",
    "        for y in range(m + 1):  # 세로 좌표\n",
    "            is_possible = True  # 해당 좌표에서 표지판에 도달 가능한지 여부를 나타내는 변수\n",
    "\n",
    "            for test in tests:\n",
    "                if not is_reachable(x, y, test):\n",
    "                    is_possible = False\n",
    "                    break  # 현재 좌표에서 표지판에 도달할 수 없으면 더 이상 확인할 필요 없음\n",
    "\n",
    "            if is_possible:\n",
    "                count += 1\n",
    "\n",
    "    return count\n",
    "\n",
    "# 예제 테스트\n",
    "n = 3\n",
    "m = 5\n",
    "tests = [\n",
    "    [2, 3, 2, True],\n",
    "    [1, 0, 4, False],\n",
    "    [0, 4, 1, False]\n",
    "]\n",
    "result = can_reach_signs(n, m, tests)\n",
    "print(result)  # 출력: 4"
   ]
  },
  {
   "cell_type": "code",
   "execution_count": 7,
   "id": "a0d94e71-c5ac-4c18-82af-d831f6432f9c",
   "metadata": {},
   "outputs": [
    {
     "name": "stdout",
     "output_type": "stream",
     "text": [
      "4\n"
     ]
    }
   ],
   "source": [
    "import heapq\n",
    "\n",
    "def minFastTravel(n, roads):\n",
    "    # 그래프를 인접 리스트로 표현\n",
    "    graph = [[] for _ in range(n + 1)]\n",
    "    for u, v in roads:\n",
    "        graph[u].append(v)\n",
    "    \n",
    "    # 다이크스트라 알고리즘을 위한 초기화\n",
    "    distances = [float('inf')] * (n + 1)\n",
    "    distances[1] = 0\n",
    "    \n",
    "    # 우선순위 큐를 사용한 다익스트라 알고리즘\n",
    "    pq = [(0, 1)]  # (거리, 지점)\n",
    "    \n",
    "    while pq:\n",
    "        dist, node = heapq.heappop(pq)\n",
    "        \n",
    "        # 이미 더 짧은 경로를 찾았다면 무시\n",
    "        if dist > distances[node]:\n",
    "            continue\n",
    "        \n",
    "        # 다음으로 이동할 수 있는 지점들을 검사\n",
    "        for neighbor in graph[node]:\n",
    "            new_dist = dist + 1  # 모든 도로의 길이는 1로 가정\n",
    "            if new_dist < distances[neighbor]:\n",
    "                distances[neighbor] = new_dist\n",
    "                heapq.heappush(pq, (new_dist, neighbor))\n",
    "    \n",
    "    # 모든 지점을 방문하기 위해 필요한 빠른 이동의 최소 사용 횟수\n",
    "    min_moves = max(distances[1:])\n",
    "    \n",
    "    return min_moves\n",
    "\n",
    "# 예시 입력\n",
    "n = 6\n",
    "roads = [[1, 2], [2, 6], [2, 4], [4, 3], [3, 2], [3, 5]]\n",
    "result = minFastTravel(n, roads)\n",
    "print(result)  # 출력: 2\n"
   ]
  },
  {
   "cell_type": "code",
   "execution_count": null,
   "id": "348d4b8e-4892-4de5-bddc-5578a0393d3d",
   "metadata": {},
   "outputs": [],
   "source": []
  }
 ],
 "metadata": {
  "kernelspec": {
   "display_name": "Python 3 (ipykernel)",
   "language": "python",
   "name": "python3"
  },
  "language_info": {
   "codemirror_mode": {
    "name": "ipython",
    "version": 3
   },
   "file_extension": ".py",
   "mimetype": "text/x-python",
   "name": "python",
   "nbconvert_exporter": "python",
   "pygments_lexer": "ipython3",
   "version": "3.11.5"
  }
 },
 "nbformat": 4,
 "nbformat_minor": 5
}
